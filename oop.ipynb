{
 "cells": [
  {
   "cell_type": "code",
   "execution_count": 4,
   "id": "448127e8",
   "metadata": {},
   "outputs": [
    {
     "name": "stdout",
     "output_type": "stream",
     "text": [
      "shahbaz\n",
      "20\n",
      "rahim yar khan\n"
     ]
    }
   ],
   "source": [
    "class Student:\n",
    "    name='shahbaz'\n",
    "    age=20\n",
    "    city='rahim yar khan'\n",
    "    \n",
    "studnet=Student()\n",
    "print(studnet.name)\n",
    "print(studnet.age)\n",
    "print(studnet.city)"
   ]
  },
  {
   "cell_type": "code",
   "execution_count": 5,
   "id": "8f8ce923",
   "metadata": {},
   "outputs": [
    {
     "name": "stdout",
     "output_type": "stream",
     "text": [
      "red\n"
     ]
    }
   ],
   "source": [
    "class Car:\n",
    "    color='red'\n",
    "    model='toyota'\n",
    "    year=2020\n",
    "    \n",
    "car=Car()\n",
    "print(car.color)"
   ]
  },
  {
   "cell_type": "code",
   "execution_count": 13,
   "id": "9b47668e",
   "metadata": {},
   "outputs": [
    {
     "name": "stdout",
     "output_type": "stream",
     "text": [
      "This is a car\n"
     ]
    }
   ],
   "source": [
    "class Car:\n",
    "    def __init__(self):\n",
    "        print('This is a car')\n",
    "\n",
    "car = Car()\n",
    "\n"
   ]
  },
  {
   "cell_type": "code",
   "execution_count": 14,
   "id": "f8b1d1ce",
   "metadata": {},
   "outputs": [
    {
     "name": "stdout",
     "output_type": "stream",
     "text": [
      "toyota 2025 green\n"
     ]
    }
   ],
   "source": [
    "class Car:\n",
    "    def __init__(self, model,year,color):\n",
    "        self.model=model\n",
    "        self.year=year\n",
    "        self.color=color\n",
    "    \n",
    "    \n",
    "    \n",
    "car=Car('toyota',2025,'green')\n",
    "print(car.model,car.year,car.color)"
   ]
  },
  {
   "cell_type": "code",
   "execution_count": 16,
   "id": "57f2c73c",
   "metadata": {},
   "outputs": [
    {
     "name": "stdout",
     "output_type": "stream",
     "text": [
      "toyota 2025 green\n",
      "toyota\n"
     ]
    }
   ],
   "source": [
    "class Car:\n",
    "    company='toyota'\n",
    "    year=2000\n",
    "    def __init__(self, model,year,color):\n",
    "        self.model=model\n",
    "        self.year=year\n",
    "        self.color=color\n",
    "    \n",
    "    \n",
    "    \n",
    "car=Car('toyota',2025,'green')\n",
    "print(car.model,car.year,car.color)\n",
    "print(car.company)\n"
   ]
  },
  {
   "cell_type": "code",
   "execution_count": 18,
   "id": "20cf11f4",
   "metadata": {},
   "outputs": [
    {
     "name": "stdout",
     "output_type": "stream",
     "text": [
      "toyota 2025 green\n",
      " i design the car\n"
     ]
    }
   ],
   "source": [
    "class Car:\n",
    "    company='toyota'\n",
    "    year=2000\n",
    "    def __init__(self, model,year,color):\n",
    "        self.model=model\n",
    "        self.year=year\n",
    "        self.color=color\n",
    "    def desging(self):\n",
    "        print(' i design the car')\n",
    "    \n",
    "    \n",
    "    \n",
    "car=Car('toyota',2025,'green')\n",
    "print(car.model,car.year,car.color)\n",
    "car.desging()"
   ]
  },
  {
   "cell_type": "code",
   "execution_count": 21,
   "id": "55152cad",
   "metadata": {},
   "outputs": [
    {
     "name": "stdout",
     "output_type": "stream",
     "text": [
      "shahbaz\n",
      "76.0\n"
     ]
    }
   ],
   "source": [
    "class Student:\n",
    "    def __init__(self, name,physics,chemistry,biology):\n",
    "        self.name=name\n",
    "        self.physics=physics\n",
    "        self.chemistry=chemistry\n",
    "        self.biology=biology\n",
    "        \n",
    "    def avg_marks(self):\n",
    "        sum=0\n",
    "        sum=self.physics+self.chemistry+self.biology\n",
    "        return sum/3\n",
    "       \n",
    "        \n",
    "        \n",
    "std=Student('shahbaz',90,78,60)\n",
    "\n",
    "print(std.name)\n",
    "print(std.avg_marks())"
   ]
  },
  {
   "cell_type": "code",
   "execution_count": 23,
   "id": "fff04adc",
   "metadata": {},
   "outputs": [
    {
     "name": "stdout",
     "output_type": "stream",
     "text": [
      "shahbaz\n",
      "76.0\n",
      "hey shahbaz\n",
      "None\n"
     ]
    }
   ],
   "source": [
    "class Student:\n",
    "    def __init__(self, name,physics,chemistry,biology):\n",
    "        self.name=name\n",
    "        self.physics=physics\n",
    "        self.chemistry=chemistry\n",
    "        self.biology=biology\n",
    "        \n",
    "    def avg_marks(self):\n",
    "        sum=0\n",
    "        sum=self.physics+self.chemistry+self.biology\n",
    "        return sum/3\n",
    "    @staticmethod  \n",
    "    def hello():\n",
    "        print('hey shahbaz')\n",
    "        \n",
    "        \n",
    "std=Student('shahbaz',90,78,60)\n",
    "\n",
    "print(std.name)\n",
    "print(std.avg_marks())\n",
    "print(std.hello())"
   ]
  },
  {
   "cell_type": "markdown",
   "id": "b83f60c1",
   "metadata": {},
   "source": [
    "abstraction"
   ]
  },
  {
   "cell_type": "code",
   "execution_count": 25,
   "id": "c341518a",
   "metadata": {},
   "outputs": [],
   "source": [
    "class corrola:\n",
    "    def __init__(self):\n",
    "        self.acc=False\n",
    "        self.brk=False\n",
    "        self.clutch=False\n",
    "        \n",
    "    def start(self):\n",
    "        self.acc=True\n",
    "        self.clutch=True\n",
    "        print('car start ho gy')"
   ]
  },
  {
   "cell_type": "code",
   "execution_count": 28,
   "id": "138f3293",
   "metadata": {},
   "outputs": [
    {
     "name": "stdout",
     "output_type": "stream",
     "text": [
      "car start ho gy\n"
     ]
    }
   ],
   "source": [
    "car=corrola()\n",
    "car.start()"
   ]
  },
  {
   "cell_type": "code",
   "execution_count": 29,
   "id": "9218de37",
   "metadata": {},
   "outputs": [
    {
     "name": "stdout",
     "output_type": "stream",
     "text": [
      "Car engine started.\n",
      "Car engine stopped.\n",
      "Bike engine started.\n",
      "Bike engine stopped.\n"
     ]
    }
   ],
   "source": [
    "from abc import ABC, abstractmethod\n",
    "\n",
    "# Abstract class\n",
    "class Vehicle(ABC):\n",
    "\n",
    "    @abstractmethod\n",
    "    def start_engine(self):\n",
    "        pass\n",
    "\n",
    "    @abstractmethod\n",
    "    def stop_engine(self):\n",
    "        pass\n",
    "\n",
    "# Concrete class\n",
    "class Car(Vehicle):\n",
    "\n",
    "    def start_engine(self):\n",
    "        print(\"Car engine started.\")\n",
    "\n",
    "    def stop_engine(self):\n",
    "        print(\"Car engine stopped.\")\n",
    "\n",
    "# Concrete class\n",
    "class Bike(Vehicle):\n",
    "\n",
    "    def start_engine(self):\n",
    "        print(\"Bike engine started.\")\n",
    "\n",
    "    def stop_engine(self):\n",
    "        print(\"Bike engine stopped.\")\n",
    "\n",
    "# Using the concrete classes\n",
    "my_car = Car()\n",
    "my_car.start_engine()\n",
    "my_car.stop_engine()\n",
    "\n",
    "my_bike = Bike()\n",
    "my_bike.start_engine()\n",
    "my_bike.stop_engine()\n"
   ]
  },
  {
   "cell_type": "markdown",
   "id": "6f9074bc",
   "metadata": {},
   "source": [
    "💳 Real-World Advanced Abstraction: Bank Account System\n",
    "We’ll create an abstract BankAccount class and implement two specific account types: SavingsAccount and CheckingAccount."
   ]
  },
  {
   "cell_type": "code",
   "execution_count": 36,
   "id": "6a0e4497",
   "metadata": {},
   "outputs": [],
   "source": [
    "from abc import ABC, abstractmethod\n",
    "# Abstract base class\n",
    "class BankAccount(ABC):\n",
    "    def __init__(self, account_holder, balance=0):\n",
    "        self.account_holder = account_holder\n",
    "        self.balance = balance\n",
    "\n",
    "    @abstractmethod\n",
    "    def deposit(self, amount):\n",
    "        pass\n",
    "\n",
    "    @abstractmethod\n",
    "    def withdraw(self, amount):\n",
    "        pass\n",
    "\n",
    "    def show_balance(self):\n",
    "        print(f\"{self.account_holder}'s Balance: ${self.balance}\")\n",
    "\n",
    " \n",
    "    \n",
    "    "
   ]
  },
  {
   "cell_type": "code",
   "execution_count": 39,
   "id": "51e90a17",
   "metadata": {},
   "outputs": [],
   "source": [
    "class SavingsAccount(BankAccount):\n",
    "    def __init__(self,account_holder,balance=0):\n",
    "        super().__init__(account_holder, balance)\n",
    "        self.interest_rate = 0.03  # 3%\n",
    "        \n",
    "    def deposit(self,amount):\n",
    "        self.balance +=amount +(amount + self.interest_rate)\n",
    "        print(f\"Deposited ${amount} + interest to SavingsAccount\")\n",
    "    def withdraw(self, amount):\n",
    "        if amount > self.balance:\n",
    "            print('')\n",
    "            \n",
    "        else:\n",
    "            self.balance -=amount\n",
    "            print(f\"Withdrew ${amount} from SavingsAccount\")\n",
    "    "
   ]
  },
  {
   "cell_type": "code",
   "execution_count": 40,
   "id": "b9c52da1",
   "metadata": {},
   "outputs": [
    {
     "name": "stdout",
     "output_type": "stream",
     "text": [
      "Deposited $500 + interest to SavingsAccount\n",
      "Withdrew $300 from SavingsAccount\n",
      "Shahbaz's Balance: $1700.03\n",
      "Deposited $200 to CheckingAccount\n",
      "Withdrew $900 from CheckingAccount\n",
      "Zulfiqar's Balance: $-200\n"
     ]
    }
   ],
   "source": [
    "\n",
    "# Another concrete class\n",
    "class CheckingAccount(BankAccount):\n",
    "    def __init__(self, account_holder, balance=0):\n",
    "        super().__init__(account_holder, balance)\n",
    "        self.overdraft_limit = 500\n",
    "\n",
    "    def deposit(self, amount):\n",
    "        self.balance += amount\n",
    "        print(f\"Deposited ${amount} to CheckingAccount\")\n",
    "\n",
    "    def withdraw(self, amount):\n",
    "        if amount > self.balance + self.overdraft_limit:\n",
    "            print(\"Withdrawal exceeds overdraft limit\")\n",
    "        else:\n",
    "            self.balance -= amount\n",
    "            print(f\"Withdrew ${amount} from CheckingAccount\")\n",
    "\n",
    "# Use the accounts\n",
    "savings = SavingsAccount(\"Shahbaz\", 1000)\n",
    "checking = CheckingAccount(\"Zulfiqar\", 500)\n",
    "\n",
    "savings.deposit(500)\n",
    "savings.withdraw(300)\n",
    "savings.show_balance()\n",
    "\n",
    "checking.deposit(200)\n",
    "checking.withdraw(900)\n",
    "checking.show_balance()"
   ]
  },
  {
   "cell_type": "markdown",
   "id": "f9a5c10e",
   "metadata": {},
   "source": [
    "What is Encapsulation?\n",
    "Encapsulation is the practice of hiding internal data and implementation details from outside access, and only exposing what's necessary through methods.\n",
    "In Python, this is done using:\n",
    "\n",
    "self.__private_var → double underscore = private\n",
    "\n",
    "self._protected_var → single underscore = protected (convention only)\n",
    "\n"
   ]
  },
  {
   "cell_type": "code",
   "execution_count": 42,
   "id": "4101b067",
   "metadata": {},
   "outputs": [
    {
     "name": "stdout",
     "output_type": "stream",
     "text": [
      "90\n"
     ]
    }
   ],
   "source": [
    "class Student:\n",
    "    def __init__(self,name,marks):\n",
    "        self.name=name\n",
    "        self._marks=marks\n",
    "        \n",
    "    def update_marks(self,new_marks):\n",
    "        if self._marks< new_marks:\n",
    "            self._marks=new_marks\n",
    "            print(f\"Marks updated to {self._marks}\")\n",
    "            \n",
    "    # def get_marks(self):\n",
    "    #     return self._marks\n",
    "\n",
    "\n",
    "\n",
    "std=Student('shahbaz',90)\n",
    "# print(std.get_marks())\n",
    "print(std._marks)\n",
    "            \n",
    "    "
   ]
  },
  {
   "cell_type": "code",
   "execution_count": 43,
   "id": "1e1fce9d",
   "metadata": {},
   "outputs": [
    {
     "name": "stdout",
     "output_type": "stream",
     "text": [
      "Ali's salary is 70000\n"
     ]
    }
   ],
   "source": [
    "class Employee:\n",
    "    def __init__(self, name, salary):\n",
    "        self.name = name\n",
    "        self._salary = salary  # Protected (by convention)\n",
    "\n",
    "class Manager(Employee):\n",
    "    def show_salary(self):\n",
    "        print(f\"{self.name}'s salary is {self._salary}\")\n",
    "\n",
    "m = Manager(\"Ali\", 70000)\n",
    "m.show_salary()  # Access allowed via subclass\n"
   ]
  }
 ],
 "metadata": {
  "kernelspec": {
   "display_name": ".venv",
   "language": "python",
   "name": "python3"
  },
  "language_info": {
   "codemirror_mode": {
    "name": "ipython",
    "version": 3
   },
   "file_extension": ".py",
   "mimetype": "text/x-python",
   "name": "python",
   "nbconvert_exporter": "python",
   "pygments_lexer": "ipython3",
   "version": "3.12.4"
  }
 },
 "nbformat": 4,
 "nbformat_minor": 5
}
