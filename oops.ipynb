{
 "cells": [
  {
   "cell_type": "code",
   "execution_count": 8,
   "metadata": {},
   "outputs": [
    {
     "name": "stdout",
     "output_type": "stream",
     "text": [
      "<bound method Address.get_city of <__main__.Address object at 0x000001BF32501850>> 1221 streen no 4\n"
     ]
    }
   ],
   "source": [
    "class Person:\n",
    "    def __init__(self,name,age,address) -> None:\n",
    "        self.name=name\n",
    "        self.age=age\n",
    "        self.address=address\n",
    "    def print_address(self):\n",
    "        print(self.address.get_city,self.address.pin,self.address.location)\n",
    "    # make getter\n",
    "  \n",
    "        \n",
    "        \n",
    "class Address:\n",
    "    def __init__(self,city,pin,location) -> None:\n",
    "        self.__city=city\n",
    "        self.pin=pin\n",
    "        self.location=location\n",
    "    def get_city(self):\n",
    "        self.__city\n",
    "        \n",
    "\n",
    "b=Address('lahore',1221,'streen no 4')     \n",
    "a=Person('shabaz',36,b)\n",
    "a.print_address()"
   ]
  },
  {
   "cell_type": "code",
   "execution_count": 4,
   "metadata": {},
   "outputs": [
    {
     "name": "stdout",
     "output_type": "stream",
     "text": [
      "gurgaon 122011 haryana\n",
      "mumbai 111111 maharastra\n"
     ]
    }
   ],
   "source": [
    "# example\n",
    "class Customer:\n",
    "\n",
    "  def __init__(self,name,gender,address):\n",
    "    self.name = name\n",
    "    self.gender = gender\n",
    "    self.address = address\n",
    "\n",
    "  def print_address(self):\n",
    "    print(self.address._Address__city,self.address.pin,self.address.state)\n",
    "\n",
    "  def edit_profile(self,new_name,new_city,new_pin,new_state):\n",
    "    self.name = new_name\n",
    "    self.address.edit_address(new_city,new_pin,new_state)\n",
    "\n",
    "class Address:\n",
    "\n",
    "  def __init__(self,city,pin,state):\n",
    "      self.__city = city\n",
    "      self.pin = pin\n",
    "      self.state = state\n",
    "\n",
    "  def get_city(self):\n",
    "    return self.__city\n",
    "\n",
    "  def edit_address(self,new_city,new_pin,new_state):\n",
    "    self.__city = new_city\n",
    "    self.pin = new_pin\n",
    "    self.state = new_state\n",
    "\n",
    "add1 = Address('gurgaon',122011,'haryana')\n",
    "cust = Customer('nitish','male',add1)\n",
    "\n",
    "cust.print_address()\n",
    "\n",
    "cust.edit_profile('ankit','mumbai',111111,'maharastra')\n",
    "cust.print_address()\n",
    "# method example\n",
    "# what about private attribute"
   ]
  },
  {
   "cell_type": "code",
   "execution_count": null,
   "metadata": {},
   "outputs": [],
   "source": [
    "class Phone:\n",
    "    def __init__(self,price,brand,camera) -> None:\n",
    "        print('inside phone class')\n",
    "        self.price=price\n",
    "        self.brand=brand\n",
    "        self.camera=camera\n",
    "    def display(self):\n",
    "        print(self.price)\n",
    "    \n",
    "class laptop(Phone):\n",
    "    def __init__(self, price, brand, camera) -> None:\n",
    "        print('laptop wala code run hua')\n",
    "        super().__init__(price, brand, camera)\n",
    "        self.brand=brand\n",
    "        self.camera=camera\n",
    "        \n",
    "l=laptop(2000,'samsung','sony')\n",
    "l.display()\n",
    "\n",
    "print(l.camera)\n",
    "print(l.brand)"
   ]
  }
 ],
 "metadata": {
  "kernelspec": {
   "display_name": "base",
   "language": "python",
   "name": "python3"
  },
  "language_info": {
   "codemirror_mode": {
    "name": "ipython",
    "version": 3
   },
   "file_extension": ".py",
   "mimetype": "text/x-python",
   "name": "python",
   "nbconvert_exporter": "python",
   "pygments_lexer": "ipython3",
   "version": "3.11.7"
  }
 },
 "nbformat": 4,
 "nbformat_minor": 2
}
