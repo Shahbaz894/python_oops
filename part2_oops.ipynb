{
 "cells": [
  {
   "cell_type": "code",
   "execution_count": 1,
   "id": "204c4f74",
   "metadata": {},
   "outputs": [],
   "source": [
    "class BankAccount:\n",
    "    def __init__(self,acc_no,name,pasw):\n",
    "        self.acc_no = acc_no\n",
    "        self.name=name\n",
    "        self.__pasw=pasw\n",
    "        \n",
    "    def reset_psw(self):\n",
    "        print(self.__pasw)\n",
    "        \n",
    "    "
   ]
  },
  {
   "cell_type": "code",
   "execution_count": 2,
   "id": "e9a0b2ec",
   "metadata": {},
   "outputs": [
    {
     "name": "stdout",
     "output_type": "stream",
     "text": [
      "1234\n",
      "None\n"
     ]
    }
   ],
   "source": [
    "s1=BankAccount(101,\"Amit\",\"1234\")\n",
    "print(s1.reset_psw())"
   ]
  },
  {
   "cell_type": "code",
   "execution_count": 3,
   "id": "15ffd895",
   "metadata": {},
   "outputs": [],
   "source": [
    "class Person:\n",
    "    __name='shahbaz'\n",
    "    def __hello(self):\n",
    "        print(\"Hello, this is a private method.\")\n",
    "        \n",
    "    def welcome(self):\n",
    "        return self.__hello()"
   ]
  },
  {
   "cell_type": "code",
   "execution_count": 4,
   "id": "1965bb6c",
   "metadata": {},
   "outputs": [
    {
     "name": "stdout",
     "output_type": "stream",
     "text": [
      "Hello, this is a private method.\n",
      "None\n"
     ]
    }
   ],
   "source": [
    "s=Person()\n",
    "print(s.welcome())  "
   ]
  },
  {
   "cell_type": "markdown",
   "id": "e945c560",
   "metadata": {},
   "source": [
    "Inhertance"
   ]
  },
  {
   "cell_type": "code",
   "execution_count": 5,
   "id": "49e27151",
   "metadata": {},
   "outputs": [],
   "source": [
    "class Car:\n",
    "    def __init__(self, model, year):\n",
    "        self.model = model\n",
    "        self.year = year\n",
    "\n",
    "    def display_info(self):\n",
    "        return f\"Model: {self.model}, Year: {self.year}\"\n",
    "    \n",
    "    @staticmethod\n",
    "    def start_engine():\n",
    "        return \"Engine started!\"\n",
    "    \n",
    "    @staticmethod\n",
    "    def stop_engine():\n",
    "        return \"Engine stopped!\"\n",
    "    "
   ]
  },
  {
   "cell_type": "code",
   "execution_count": 6,
   "id": "5535edb0",
   "metadata": {},
   "outputs": [],
   "source": [
    "class Toyota(Car):\n",
    "    def __init__(self, color):\n",
    "        self.color=color\n",
    "        "
   ]
  },
  {
   "cell_type": "code",
   "execution_count": 7,
   "id": "d6ffaaaa",
   "metadata": {},
   "outputs": [],
   "source": [
    "class Honda(Toyota):\n",
    "    def __init__(self,brand):\n",
    "        self.brand=brand"
   ]
  },
  {
   "cell_type": "code",
   "execution_count": 8,
   "id": "b600e9a9",
   "metadata": {},
   "outputs": [
    {
     "name": "stdout",
     "output_type": "stream",
     "text": [
      "Engine started!\n"
     ]
    }
   ],
   "source": [
    "\n",
    "car1 = Car(\"Camry\", 2020)\n",
    "T1 = Toyota(\"Red\")\n",
    "h= Honda(\"Civic\")\n",
    "print(h.start_engine())"
   ]
  },
  {
   "cell_type": "code",
   "execution_count": 11,
   "id": "023fb547",
   "metadata": {},
   "outputs": [
    {
     "name": "stdout",
     "output_type": "stream",
     "text": [
      "Toyota is driving\n"
     ]
    }
   ],
   "source": [
    "class Car:\n",
    "    def drive(self):\n",
    "        print(\"Car is driving\")\n",
    "\n",
    "class Toyota(Car):\n",
    "    def drive(self):\n",
    "        print(\"Toyota is driving\")\n",
    "\n",
    "class Honda(Car):\n",
    "    def drive(self):\n",
    "        print(\"Honda is driving\")\n",
    "\n",
    "# ✅ Fix: Remove 'Car' from here\n",
    "class Civic(Toyota, Honda):\n",
    "    def __init__(self, owner, country):\n",
    "        self.owner = owner\n",
    "        self.country = country\n",
    "\n",
    "# Test\n",
    "c = Civic(\"Shahbaz\", \"Pakistan\")\n",
    "c.drive()  # Output depends on MRO — \"Toyota is driving\"\n"
   ]
  },
  {
   "cell_type": "markdown",
   "id": "dc1c98cd",
   "metadata": {},
   "source": [
    "What is a @classmethod in Python?\n",
    "A @classmethod is a method that:\n",
    "\n",
    "Belongs to the class, not the instance.\n",
    "\n",
    "Takes cls (the class itself) as its first parameter instead of self.\n",
    "\n",
    "Can access and modify class variables, but not instance-specific data.\n",
    "\n",
    "\n",
    "class MyClass:\n",
    "\n",
    "    @classmethod\n",
    "\n",
    "    def my_class_method(cls, arg1):\n",
    "        # cls refers to the class itself\n",
    "        print(f\"Called on class: {cls.__name__}, with arg: {arg1}\")\n"
   ]
  },
  {
   "cell_type": "markdown",
   "id": "3038b207",
   "metadata": {},
   "source": [
    "🔍 When to Use @classmethod\n",
    "Use it when:\n",
    "\n",
    "You need to modify or access class-level state.\n",
    "\n",
    "You’re creating alternative constructors (e.g., from_string, from_dict).\n",
    "\n",
    "You want to write logic that’s shared across all instances of a class.\n",
    "\n",
    "📌 Example: Class Method for Alternative Constructor"
   ]
  },
  {
   "cell_type": "code",
   "execution_count": 13,
   "id": "6998f285",
   "metadata": {},
   "outputs": [
    {
     "name": "stdout",
     "output_type": "stream",
     "text": [
      "Shahbaz 3\n"
     ]
    }
   ],
   "source": [
    "class Person:\n",
    "    def __init__(self,name,age):\n",
    "        \n",
    "        self.name=name\n",
    "        self.age=age\n",
    "        \n",
    "        \n",
    "    @classmethod\n",
    "    def from_birt_year(cls,name,birth_year):\n",
    "        current_year=2003\n",
    "        age=current_year - birth_year\n",
    "        return cls(name,age)\n",
    "    \n",
    "    \n",
    "p1 = Person.from_birt_year(\"Shahbaz\", 2000)\n",
    "print(p1.name,p1.age)"
   ]
  },
  {
   "cell_type": "markdown",
   "id": "4c2b7719",
   "metadata": {},
   "source": [
    "🔁 Difference Between @staticmethod, @classmethod, and Instance Method\n",
    "\n",
    "| Feature               | Instance Method      | Class Method                | Static Method    |\n",
    "| --------------------- | -------------------- | --------------------------- | ---------------- |\n",
    "| Access `self`?        | ✅ Yes                | ❌ No                        | ❌ No             |\n",
    "| Access `cls`?         | ❌ No                 | ✅ Yes                       | ❌ No             |\n",
    "| Use case              | Behavior of instance | Factory/utility using class | Utility function |\n",
    "| Can access class var? | ✅ Yes (via self)     | ✅ Yes (via cls)             | ❌ No             |\n"
   ]
  },
  {
   "cell_type": "markdown",
   "id": "21b2dac8",
   "metadata": {},
   "source": [
    " Another Real Example"
   ]
  },
  {
   "cell_type": "code",
   "execution_count": 14,
   "id": "ce530f71",
   "metadata": {},
   "outputs": [],
   "source": [
    "class Student:\n",
    "    schol_name='unique'\n",
    "    \n",
    "    @classmethod\n",
    "    def change_school_name(cls,name):\n",
    "        cls.schol_name=name\n",
    "        return cls.schol_name"
   ]
  },
  {
   "cell_type": "code",
   "execution_count": 17,
   "id": "eb5e298f",
   "metadata": {},
   "outputs": [
    {
     "name": "stdout",
     "output_type": "stream",
     "text": [
      "unique\n"
     ]
    },
    {
     "data": {
      "text/plain": [
       "'Ravi School'"
      ]
     },
     "execution_count": 17,
     "metadata": {},
     "output_type": "execute_result"
    }
   ],
   "source": [
    "# Before\n",
    "print(Student.schol_name)  # GHS School\n",
    "\n",
    "# Change using classmethod\n",
    "Student.change_school_name(\"Ravi School\")"
   ]
  },
  {
   "cell_type": "code",
   "execution_count": null,
   "id": "e41e099c",
   "metadata": {},
   "outputs": [],
   "source": [
    "class Shop:\n",
    "    def __init__(self):\n",
    "        self.items = {\n",
    "            \"1\": (\"Apple\", 10, 1.5),\n",
    "            \"2\": (\"Banana\", 5, 0.5),\n",
    "            \"3\": (\"Orange\", 8, 0.75),\n",
    "            \"4\": (\"Mango\", 12, 1.2),\n",
    "            \"5\": (\"Daal\", 1, 300),\n",
    "            \"6\": (\"Oil\", 1, 500),\n",
    "            \"7\": (\"Sugar\", 1, 200),\n",
    "            \"8\": (\"Toothpaste\", 1, 150),\n",
    "            \"9\": (\"Shampoo\", 1, 350)\n",
    "        }\n",
    "        self.cart = {}\n",
    "\n",
    "    def display_items(self):\n",
    "        print('Available items:')\n",
    "        for key, (name, quantity, price) in self.items.items():\n",
    "            print(f\"{key}. {name} - Quantity: {quantity} - Price: Rs.{price}\")\n",
    "\n",
    "    def get_item(self, item_no):\n",
    "        if item_no in self.items:\n",
    "            name, quantity, price = self.items[item_no]\n",
    "            return name, quantity, price\n",
    "        else:\n",
    "            print(\"❌ Invalid item number.\")\n",
    "            return None\n",
    "\n",
    "    def add_to_cart(self, item_no, quantity):\n",
    "        item = self.get_item(item_no)\n",
    "        \n",
    "        if item:\n",
    "            name, available_quantity, price = item\n",
    "\n",
    "            if quantity <= available_quantity:\n",
    "                if item_no in self.cart:\n",
    "                    self.cart[item_no]['quantity'] += quantity\n",
    "                else:\n",
    "                    self.cart[item_no] = {\n",
    "                        'name': name,\n",
    "                        'price': price,\n",
    "                        'quantity': quantity\n",
    "                    }\n",
    "\n",
    "                print(f\"✅ Added {quantity} x {name} to cart.\")\n",
    "            else:\n",
    "                print(f\"⚠️ Only {available_quantity} of {name} available.\")\n",
    "        else:\n",
    "            print(\"❌ Cannot add to cart. Item not found.\")\n",
    "\n",
    "        print(\"🛒 Current Cart:\", self.cart)\n",
    "    \n",
    "    def show_bill(self):\n",
    "        if not self.cart:\n",
    "            print(\"🛒 your cart is empty\")\n",
    "        else:\n",
    "            total=0\n",
    "            print(\"🛒 cart is \")\n",
    "            for item_no,details in self.cart.items():\n",
    "                name=details['name']\n",
    "                quantity=details['quantity']\n",
    "                price=details['price']\n",
    "                total += quantity * price\n",
    "                return f\"{name} - Quantity: {quantity} - Price: Rs.{price * quantity}\"\n",
    "            \n",
    "    def delete_item(self,item_no):\n",
    "        if item_no in self.cart:\n",
    "            del self.cart[item_no]\n",
    "            print(f\"✅ Removed item {item_no} from cart.\")\n",
    "            \n",
    "                \n"
   ]
  },
  {
   "cell_type": "code",
   "execution_count": 42,
   "id": "e457fa37",
   "metadata": {},
   "outputs": [
    {
     "name": "stdout",
     "output_type": "stream",
     "text": [
      "✅ Added 2 x Apple to cart.\n",
      "🛒 Current Cart: {'1': {'name': 'Apple', 'price': 1.5, 'quantity': 2}}\n",
      "✅ Added 3 x Banana to cart.\n",
      "🛒 Current Cart: {'1': {'name': 'Apple', 'price': 1.5, 'quantity': 2}, '2': {'name': 'Banana', 'price': 0.5, 'quantity': 3}}\n",
      "✅ Added 1 x Apple to cart.\n",
      "🛒 Current Cart: {'1': {'name': 'Apple', 'price': 1.5, 'quantity': 3}, '2': {'name': 'Banana', 'price': 0.5, 'quantity': 3}}\n",
      "🛒 cart is \n"
     ]
    },
    {
     "data": {
      "text/plain": [
       "'Apple - Quantity: 3 - Price: Rs.4.5'"
      ]
     },
     "execution_count": 42,
     "metadata": {},
     "output_type": "execute_result"
    }
   ],
   "source": [
    "shop = Shop()\n",
    "# shop.display_items()\n",
    "\n",
    "shop.add_to_cart(\"1\", 2)  # Add 2 Apples\n",
    "shop.add_to_cart(\"2\", 3)  # Add 3 Bananas\n",
    "shop.add_to_cart(\"1\", 1)  # Add 1 more Apple\n",
    "shop.show_bill()\n"
   ]
  }
 ],
 "metadata": {
  "kernelspec": {
   "display_name": ".venv",
   "language": "python",
   "name": "python3"
  },
  "language_info": {
   "codemirror_mode": {
    "name": "ipython",
    "version": 3
   },
   "file_extension": ".py",
   "mimetype": "text/x-python",
   "name": "python",
   "nbconvert_exporter": "python",
   "pygments_lexer": "ipython3",
   "version": "3.12.4"
  }
 },
 "nbformat": 4,
 "nbformat_minor": 5
}
