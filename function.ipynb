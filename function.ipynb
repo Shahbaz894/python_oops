{
 "cells": [
  {
   "cell_type": "code",
   "execution_count": 1,
   "id": "a09c5483",
   "metadata": {},
   "outputs": [],
   "source": [
    "def is_even(num):\n",
    "    \"\"\"\n",
    "    Check if a number is even.\n",
    "    This function takes an integer as input and returns \n",
    "    :param num: The number to check.\n",
    "    :return: True if the number is even, False otherwise\n",
    "    \"\"\"\n",
    "    \n",
    "    if type(num)==int:\n",
    "        if num %2==0:\n",
    "            return \"Even\"\n",
    "        else:\n",
    "            return \"Odd\"\n",
    "    else:\n",
    "        return \"Input must be an integer\""
   ]
  },
  {
   "cell_type": "code",
   "execution_count": 2,
   "id": "1f90a799",
   "metadata": {},
   "outputs": [
    {
     "data": {
      "text/plain": [
       "'Odd'"
      ]
     },
     "execution_count": 2,
     "metadata": {},
     "output_type": "execute_result"
    }
   ],
   "source": [
    "is_even(11)"
   ]
  },
  {
   "cell_type": "code",
   "execution_count": 3,
   "id": "f69620d3",
   "metadata": {},
   "outputs": [
    {
     "name": "stdout",
     "output_type": "stream",
     "text": [
      "0 is Even\n",
      "1 is Odd\n",
      "2 is Even\n",
      "3 is Odd\n",
      "4 is Even\n",
      "5 is Odd\n",
      "6 is Even\n",
      "7 is Odd\n",
      "8 is Even\n",
      "9 is Odd\n",
      "10 is Even\n",
      "11 is Odd\n",
      "12 is Even\n",
      "13 is Odd\n",
      "14 is Even\n"
     ]
    }
   ],
   "source": [
    "for i in range(15):\n",
    "    x=is_even(i)\n",
    "    print(f\"{i} is {x}\")"
   ]
  },
  {
   "cell_type": "code",
   "execution_count": 4,
   "id": "89fa196c",
   "metadata": {},
   "outputs": [],
   "source": [
    "def power(a=1,b=5):\n",
    "    \"\"\"\n",
    "    Calculate the power of a number.\n",
    "    This function takes two integers as input and returns\n",
    "    \"\"\"\n",
    "    return a*b"
   ]
  },
  {
   "cell_type": "code",
   "execution_count": 5,
   "id": "edf109a1",
   "metadata": {},
   "outputs": [
    {
     "data": {
      "text/plain": [
       "10"
      ]
     },
     "execution_count": 5,
     "metadata": {},
     "output_type": "execute_result"
    }
   ],
   "source": [
    "power(2)"
   ]
  },
  {
   "cell_type": "code",
   "execution_count": 10,
   "id": "b5994fee",
   "metadata": {},
   "outputs": [],
   "source": [
    "def arg(*args):\n",
    "    \"\"\"this function takes number of varibalse as arguments\n",
    "    \"\"\"\n",
    "    list=[]\n",
    "    for i in args:\n",
    "        list.append(i)\n",
    "    return max(list)\n",
    "    "
   ]
  },
  {
   "cell_type": "code",
   "execution_count": 11,
   "id": "600f0c93",
   "metadata": {},
   "outputs": [
    {
     "data": {
      "text/plain": [
       "107"
      ]
     },
     "execution_count": 11,
     "metadata": {},
     "output_type": "execute_result"
    }
   ],
   "source": [
    "arg(11,44,22,77,11,22,55,107)"
   ]
  },
  {
   "cell_type": "code",
   "execution_count": 12,
   "id": "71af300f",
   "metadata": {},
   "outputs": [],
   "source": [
    "def display_args(**kwargs):\n",
    "    \"\"\"this function take keyword arguments as dictionary form\n",
    "    \"\"\"\n",
    "    for key ,value in kwargs.items():\n",
    "        print(f\"{key} : {value}\")"
   ]
  },
  {
   "cell_type": "code",
   "execution_count": 13,
   "id": "add08fe8",
   "metadata": {},
   "outputs": [
    {
     "name": "stdout",
     "output_type": "stream",
     "text": [
      "india : delhi\n",
      "srilanka : colombo\n",
      "nepal : kathmandu\n",
      "pakistan : islamabad\n"
     ]
    }
   ],
   "source": [
    "display_args(india='delhi',srilanka='colombo',nepal='kathmandu',pakistan='islamabad')"
   ]
  },
  {
   "cell_type": "code",
   "execution_count": null,
   "id": "f6bebbd5",
   "metadata": {},
   "outputs": [],
   "source": []
  },
  {
   "cell_type": "code",
   "execution_count": 20,
   "id": "90bcc33f",
   "metadata": {},
   "outputs": [
    {
     "name": "stdout",
     "output_type": "stream",
     "text": [
      "a: 44\n",
      "b: 40\n",
      "Multiplication: 50\n"
     ]
    }
   ],
   "source": [
    "def shahid(a, b):\n",
    "    def multiply(x, y):\n",
    "        return x * y\n",
    "    return a, b, multiply  # returns a tuple\n",
    "\n",
    "# Unpack the result\n",
    "a_val, b_val, multiply_func = shahid(44, 40)\n",
    "\n",
    "# Now call the inner function\n",
    "result = multiply_func(10, 5)\n",
    "print(\"a:\", a_val)\n",
    "print(\"b:\", b_val)\n",
    "print(\"Multiplication:\", result)\n",
    "\n"
   ]
  },
  {
   "cell_type": "code",
   "execution_count": 23,
   "id": "07a29a5a",
   "metadata": {},
   "outputs": [
    {
     "name": "stdout",
     "output_type": "stream",
     "text": [
      "in g(x): x = 4\n"
     ]
    }
   ],
   "source": [
    "def g(x):\n",
    "    def h():\n",
    "        x = 'abc'\n",
    "    x = x + 1\n",
    "    print('in g(x): x =', x)\n",
    "    h()\n",
    "    return x\n",
    "\n",
    "x = 3\n",
    "z = g(x)"
   ]
  },
  {
   "cell_type": "code",
   "execution_count": 24,
   "id": "2c21656a",
   "metadata": {},
   "outputs": [
    {
     "name": "stdout",
     "output_type": "stream",
     "text": [
      "in g(x): x =  4\n",
      "in h(x): x =  5\n",
      "in main program scope: x =  3\n",
      "in main program scope: z =  4\n"
     ]
    }
   ],
   "source": [
    "def g(x):\n",
    "    def h(x):\n",
    "        x = x+1\n",
    "        print(\"in h(x): x = \", x)\n",
    "    x = x + 1\n",
    "    print('in g(x): x = ', x)\n",
    "    h(x)\n",
    "    return x\n",
    "\n",
    "x = 3\n",
    "z = g(x)\n",
    "print('in main program scope: x = ', x)\n",
    "print('in main program scope: z = ', z)"
   ]
  },
  {
   "cell_type": "code",
   "execution_count": 25,
   "id": "ed7af5d0",
   "metadata": {},
   "outputs": [
    {
     "name": "stdout",
     "output_type": "stream",
     "text": [
      "7\n"
     ]
    }
   ],
   "source": [
    "def f():\n",
    "    def x(a, b):\n",
    "        return a+b\n",
    "    return x\n",
    "    \n",
    "val = f()(3,4)\n",
    "print(val)"
   ]
  },
  {
   "cell_type": "code",
   "execution_count": 29,
   "id": "52da119c",
   "metadata": {},
   "outputs": [
    {
     "name": "stdout",
     "output_type": "stream",
     "text": [
      "inside b\n"
     ]
    }
   ],
   "source": [
    "def fucn_a():\n",
    "    return \" inside a\"\n",
    "\n",
    "def fucn_b(func):\n",
    "    return \"inside b\"\n",
    "\n",
    "print(fucn_b(fucn_a))"
   ]
  },
  {
   "cell_type": "code",
   "execution_count": 30,
   "id": "045dcb11",
   "metadata": {},
   "outputs": [
    {
     "name": "stdout",
     "output_type": "stream",
     "text": [
      "inside b inside a\n"
     ]
    }
   ],
   "source": [
    "def fucn_a():\n",
    "    return \" inside a\"\n",
    "\n",
    "def fucn_b(func):\n",
    "    return \"inside b\" + func()\n",
    "\n",
    "print(fucn_b(fucn_a))\n"
   ]
  },
  {
   "cell_type": "code",
   "execution_count": 33,
   "id": "7f29f837",
   "metadata": {},
   "outputs": [
    {
     "name": "stdout",
     "output_type": "stream",
     "text": [
      "flutter developer\n",
      "ai engineer\n"
     ]
    }
   ],
   "source": [
    "# Define a function named `shah` that returns a string\n",
    "def shah():\n",
    "    return \"ai engineer\"\n",
    "\n",
    "# Define another function named `sameer` that takes a function as an argument\n",
    "def sameer(func):\n",
    "    print(\"flutter developer\")     # Print this string first\n",
    "    return func()                  # Call the passed-in function and return its result\n",
    "\n",
    "# Call `sameer`, passing in the `shah` function (not calling it, just passing its reference)\n",
    "print(sameer(shah))  # This will print \"flutter developer\", then \"ai engineer\"\n"
   ]
  },
  {
   "cell_type": "code",
   "execution_count": 38,
   "id": "1c380118",
   "metadata": {},
   "outputs": [
    {
     "data": {
      "text/plain": [
       "<function __main__.<lambda>(x)>"
      ]
     },
     "execution_count": 38,
     "metadata": {},
     "output_type": "execute_result"
    }
   ],
   "source": [
    "x=20\n",
    "y=lambda x:x**2\n",
    "y"
   ]
  },
  {
   "cell_type": "code",
   "execution_count": 35,
   "id": "45acc267",
   "metadata": {},
   "outputs": [],
   "source": [
    "x=10"
   ]
  },
  {
   "cell_type": "code",
   "execution_count": 39,
   "id": "4e4fca0d",
   "metadata": {},
   "outputs": [
    {
     "name": "stdout",
     "output_type": "stream",
     "text": [
      "0 apple\n",
      "1 banana\n",
      "2 cherry\n"
     ]
    }
   ],
   "source": [
    "my_list = [\"apple\", \"banana\", \"cherry\"]\n",
    "for i,value in enumerate(my_list):\n",
    "    print(i,value)"
   ]
  },
  {
   "cell_type": "code",
   "execution_count": 40,
   "id": "f4e3e153",
   "metadata": {},
   "outputs": [
    {
     "name": "stdout",
     "output_type": "stream",
     "text": [
      "Hi\n",
      "Bye\n"
     ]
    }
   ],
   "source": [
    "def greet():\n",
    "    return \"Hi\"\n",
    "\n",
    "def bye():\n",
    "    return \"Bye\"\n",
    "\n",
    "functions = [greet, bye]\n",
    "print(functions[0]())  # Output: \"Hi\"\n",
    "print(functions[1]())  # Output: \"Bye\"\n"
   ]
  },
  {
   "cell_type": "code",
   "execution_count": 41,
   "id": "b4745811",
   "metadata": {},
   "outputs": [
    {
     "name": "stdout",
     "output_type": "stream",
     "text": [
      "Index: 0, Fruit: apple\n",
      "Index: 1, Fruit: banana\n",
      "Index: 2, Fruit: cherry\n"
     ]
    }
   ],
   "source": [
    "fruits = [\"apple\", \"banana\", \"cherry\"]\n",
    "\n",
    "for index, fruit in enumerate(fruits):\n",
    "    print(f\"Index: {index}, Fruit: {fruit}\")\n"
   ]
  },
  {
   "cell_type": "code",
   "execution_count": 42,
   "id": "24795b85",
   "metadata": {},
   "outputs": [
    {
     "name": "stdout",
     "output_type": "stream",
     "text": [
      "['apple is good', 'banana is yellow', 'No info for cherry', 'No info for mango', 'Number found: 10', 'Number found: 20', 'Number found: 30', 'Number found: 40', 'Number found: 50']\n"
     ]
    }
   ],
   "source": [
    "fruits = [\"apple\", \"banana\", \"cherry\", \"mango\", 10, 20, 30, 40, 50]\n",
    "\n",
    "def marks(funct):\n",
    "    if funct == \"apple\":\n",
    "        return \"apple is good\"\n",
    "    elif funct == \"banana\":\n",
    "        return \"banana is yellow\"\n",
    "    elif isinstance(funct, int):\n",
    "        return f\"Number found: {funct}\"\n",
    "    else:\n",
    "        return f\"No info for {funct}\"\n",
    "    \n",
    "results=map(marks,fruits)\n",
    "print(list(results))\n",
    "    "
   ]
  },
  {
   "cell_type": "code",
   "execution_count": 46,
   "id": "638bf942",
   "metadata": {},
   "outputs": [
    {
     "name": "stdout",
     "output_type": "stream",
     "text": [
      "[60, 70, 80, 90]\n"
     ]
    }
   ],
   "source": [
    "fruits = [ 10, 20, 30, 40, 50,60,70,80,90]\n",
    "\n",
    "\n",
    "def marks(funct):\n",
    "    if funct >50:\n",
    "        return \"failed\"\n",
    "    \n",
    "    \n",
    "    \n",
    "results=filter(marks,fruits)\n",
    "print(list(results))"
   ]
  },
  {
   "cell_type": "code",
   "execution_count": 47,
   "id": "ca9980e6",
   "metadata": {},
   "outputs": [
    {
     "data": {
      "text/plain": [
       "False"
      ]
     },
     "execution_count": 47,
     "metadata": {},
     "output_type": "execute_result"
    }
   ],
   "source": [
    "# check if a string has 'a'\n",
    "a = lambda s:'a' in s\n",
    "a('hello')"
   ]
  },
  {
   "cell_type": "code",
   "execution_count": 48,
   "id": "b5d42e00",
   "metadata": {},
   "outputs": [
    {
     "data": {
      "text/plain": [
       "'odd'"
      ]
     },
     "execution_count": 48,
     "metadata": {},
     "output_type": "execute_result"
    }
   ],
   "source": [
    "a=lambda x:'even' if x%2==0 else \"odd\"\n",
    "a(7)"
   ]
  },
  {
   "cell_type": "code",
   "execution_count": 49,
   "id": "ba4ba597",
   "metadata": {},
   "outputs": [],
   "source": [
    "def saqure(x):\n",
    "    return x**2\n",
    "\n",
    "def cube(x):\n",
    "    return x**3\n",
    "\n",
    "def transformer(f,L):\n",
    "    output=[]\n",
    "    for i in L:\n",
    "        output.append(f(i))\n",
    "    \n",
    "L=[1,2,3,4,5,6,7,8,9]\n",
    "transformer(lambda x:x**3,L)"
   ]
  },
  {
   "cell_type": "code",
   "execution_count": 50,
   "id": "8baf749f",
   "metadata": {},
   "outputs": [
    {
     "data": {
      "text/plain": [
       "['male', 'male', 'female']"
      ]
     },
     "execution_count": 50,
     "metadata": {},
     "output_type": "execute_result"
    }
   ],
   "source": [
    "# fetch names from a list of dict\n",
    "\n",
    "users = [\n",
    "    {\n",
    "        'name':'Rahul',\n",
    "        'age':45,\n",
    "        'gender':'male'\n",
    "    },\n",
    "    {\n",
    "        'name':'Nitish',\n",
    "        'age':33,\n",
    "        'gender':'male'\n",
    "    },\n",
    "    {\n",
    "        'name':'Ankita',\n",
    "        'age':50,\n",
    "        'gender':'female'\n",
    "    }\n",
    "]\n",
    "\n",
    "list(map(lambda users:users['gender'],users))"
   ]
  },
  {
   "cell_type": "code",
   "execution_count": 51,
   "id": "a79a01f8",
   "metadata": {},
   "outputs": [
    {
     "data": {
      "text/plain": [
       "['Rahul', 'Nitish', 'Ankita']"
      ]
     },
     "execution_count": 51,
     "metadata": {},
     "output_type": "execute_result"
    }
   ],
   "source": [
    "list(map(lambda users:users['name'],users))"
   ]
  },
  {
   "cell_type": "code",
   "execution_count": 52,
   "id": "70f7181e",
   "metadata": {},
   "outputs": [
    {
     "data": {
      "text/plain": [
       "15"
      ]
     },
     "execution_count": 52,
     "metadata": {},
     "output_type": "execute_result"
    }
   ],
   "source": [
    "# sum of all item\n",
    "import functools\n",
    "\n",
    "functools.reduce(lambda x,y:x+y,[1,2,3,4,5])"
   ]
  },
  {
   "cell_type": "code",
   "execution_count": 53,
   "id": "9dfb6f49",
   "metadata": {},
   "outputs": [
    {
     "name": "stdout",
     "output_type": "stream",
     "text": [
      "120\n"
     ]
    }
   ],
   "source": [
    "def factorial(n):\n",
    "    \"\"\"Return factorial of n using recursion.\"\"\"\n",
    "    if n == 0:\n",
    "        return 1\n",
    "    return n * factorial(n - 1)\n",
    "\n",
    "print(factorial(5))  # 120\n"
   ]
  },
  {
   "cell_type": "code",
   "execution_count": 54,
   "id": "c28f3fdf",
   "metadata": {},
   "outputs": [
    {
     "name": "stdout",
     "output_type": "stream",
     "text": [
      "[1, 2, 3, 4, 5]\n"
     ]
    }
   ],
   "source": [
    "def flatten_list(lst):\n",
    "    \"\"\"Flatten a nested list using recursion.\"\"\"\n",
    "    flat = []\n",
    "    for item in lst:\n",
    "        if isinstance(item, list):\n",
    "            flat.extend(flatten_list(item))\n",
    "        else:\n",
    "            flat.append(item)\n",
    "    return flat\n",
    "\n",
    "print(flatten_list([1, [2, [3, 4]], 5]))  # [1, 2, 3, 4, 5]\n"
   ]
  },
  {
   "cell_type": "code",
   "execution_count": 55,
   "id": "23ad7408",
   "metadata": {},
   "outputs": [
    {
     "name": "stdout",
     "output_type": "stream",
     "text": [
      "True\n"
     ]
    }
   ],
   "source": [
    "def is_armstrong(n):\n",
    "    \"\"\"Check if a number is an Armstrong number.\"\"\"\n",
    "    digits = str(n)\n",
    "    power = len(digits)\n",
    "    return n == sum(int(d)**power for d in digits)\n",
    "\n",
    "print(is_armstrong(153))  # True\n"
   ]
  },
  {
   "cell_type": "code",
   "execution_count": 56,
   "id": "e6082f4a",
   "metadata": {},
   "outputs": [
    {
     "name": "stdout",
     "output_type": "stream",
     "text": [
      "[1, 2]\n"
     ]
    }
   ],
   "source": [
    "def find_duplicates(lst):\n",
    "    \"\"\"Return list of duplicates from the input list.\"\"\"\n",
    "    seen = set()\n",
    "    duplicates = set()\n",
    "    for item in lst:\n",
    "        if item in seen:\n",
    "            duplicates.add(item)\n",
    "        else:\n",
    "            seen.add(item)\n",
    "    return list(duplicates)\n",
    "\n",
    "print(find_duplicates([1, 2, 3, 2, 4, 5, 1]))  # [1, 2]\n"
   ]
  },
  {
   "cell_type": "code",
   "execution_count": 57,
   "id": "629b7cae",
   "metadata": {},
   "outputs": [
    {
     "name": "stdout",
     "output_type": "stream",
     "text": [
      "True\n"
     ]
    }
   ],
   "source": [
    "def is_anagram(str1, str2):\n",
    "    \"\"\"Check if two strings are anagrams.\"\"\"\n",
    "    return sorted(str1) == sorted(str2)\n",
    "\n",
    "print(is_anagram(\"listen\", \"silent\"))  # True\n"
   ]
  },
  {
   "cell_type": "code",
   "execution_count": 58,
   "id": "91b168cd",
   "metadata": {},
   "outputs": [
    {
     "name": "stdout",
     "output_type": "stream",
     "text": [
      "Calling greet with ('Shahbaz',)\n",
      "Hello, Shahbaz\n"
     ]
    }
   ],
   "source": [
    "def logger(func):\n",
    "    def wrapper(*args, **kwargs):\n",
    "        print(f\"Calling {func.__name__} with {args}\")\n",
    "        return func(*args, **kwargs)\n",
    "    return wrapper\n",
    "\n",
    "@logger\n",
    "def greet(name):\n",
    "    return f\"Hello, {name}\"\n",
    "\n",
    "print(greet(\"Shahbaz\"))\n"
   ]
  },
  {
   "cell_type": "code",
   "execution_count": 59,
   "id": "b0c64c54",
   "metadata": {},
   "outputs": [
    {
     "name": "stdout",
     "output_type": "stream",
     "text": [
      "15\n"
     ]
    }
   ],
   "source": [
    "def deep_sum(lst):\n",
    "    total = 0\n",
    "    for item in lst:\n",
    "        if isinstance(item, list):\n",
    "            total += deep_sum(item)\n",
    "        else:\n",
    "            total += item\n",
    "    return total\n",
    "\n",
    "print(deep_sum([1, [2, [3, 4]], 5]))  # 15\n"
   ]
  },
  {
   "cell_type": "code",
   "execution_count": 64,
   "id": "ed583a55",
   "metadata": {},
   "outputs": [
    {
     "name": "stdout",
     "output_type": "stream",
     "text": [
      "hello shahbaz\n",
      "7\n"
     ]
    }
   ],
   "source": [
    "# Proper decorator function\n",
    "def hello(func):\n",
    "    def wrapper(*args, **kwargs):\n",
    "        print(\"hello shahbaz\")  # runs before the actual function\n",
    "        return func(*args, **kwargs)\n",
    "    return wrapper\n",
    "\n",
    "@hello\n",
    "def addd(a, b):\n",
    "    print(a + b)\n",
    "\n",
    "# Call the decorated function\n",
    "addd(3, 4)\n"
   ]
  },
  {
   "cell_type": "code",
   "execution_count": 65,
   "id": "ff938f67",
   "metadata": {},
   "outputs": [
    {
     "name": "stdout",
     "output_type": "stream",
     "text": [
      "Before the function runs\n",
      "Hello!\n",
      "After the function runs\n"
     ]
    }
   ],
   "source": [
    "def my_decorator(func):\n",
    "    def wrapper():\n",
    "        print(\"Before the function runs\")\n",
    "        func()\n",
    "        print(\"After the function runs\")\n",
    "    return wrapper\n",
    "\n",
    "@my_decorator\n",
    "def say_hello():\n",
    "    print(\"Hello!\")\n",
    "\n",
    "say_hello()\n"
   ]
  },
  {
   "cell_type": "code",
   "execution_count": 68,
   "id": "06717a3e",
   "metadata": {},
   "outputs": [
    {
     "name": "stdout",
     "output_type": "stream",
     "text": [
      "Welcome, Shahbaz!\n"
     ]
    }
   ],
   "source": [
    "def login_required(func):\n",
    "    def wrapper(user, *args, **kwargs):\n",
    "        if user.get(\"authenticated\"):\n",
    "            return func(user, *args, **kwargs)\n",
    "        else:\n",
    "            return \"Error 401: Unauthorized\"\n",
    "    return wrapper\n",
    "\n",
    "@login_required\n",
    "def view_dashboard(user):\n",
    "    return f\"Welcome, {user['name']}!\"\n",
    "\n",
    "user = {\"name\": \"Shahbaz\", \"authenticated\": True}\n",
    "print(view_dashboard(user))  # Output: Welcome, Shahbaz!\n"
   ]
  },
  {
   "cell_type": "code",
   "execution_count": 66,
   "id": "a1d4ae79",
   "metadata": {},
   "outputs": [
    {
     "name": "stdout",
     "output_type": "stream",
     "text": [
      "8\n"
     ]
    }
   ],
   "source": [
    "def validate_int(func):\n",
    "    def wrapper(x, y):\n",
    "        if not all(isinstance(i, int) for i in (x, y)):\n",
    "            raise ValueError(\"Both arguments must be integers\")\n",
    "        return func(x, y)\n",
    "    return wrapper\n",
    "\n",
    "@validate_int\n",
    "def add(x, y):\n",
    "    return x + y\n",
    "\n",
    "print(add(5, 3))  # Output: 8\n"
   ]
  },
  {
   "cell_type": "code",
   "execution_count": 67,
   "id": "d73ce2c3",
   "metadata": {},
   "outputs": [
    {
     "name": "stdout",
     "output_type": "stream",
     "text": [
      "Success\n"
     ]
    }
   ],
   "source": [
    "import random\n",
    "\n",
    "def retry(max_retries=3):\n",
    "    def decorator(func):\n",
    "        def wrapper(*args, **kwargs):\n",
    "            for attempt in range(max_retries):\n",
    "                try:\n",
    "                    return func(*args, **kwargs)\n",
    "                except Exception as e:\n",
    "                    print(f\"Attempt {attempt + 1} failed: {e}\")\n",
    "            raise Exception(\"Max retries reached.\")\n",
    "        return wrapper\n",
    "    return decorator\n",
    "\n",
    "@retry(3)\n",
    "def unstable_api_call():\n",
    "    if random.choice([True, False]):\n",
    "        raise Exception(\"Temporary failure\")\n",
    "    return \"Success\"\n",
    "\n",
    "print(unstable_api_call())\n"
   ]
  },
  {
   "cell_type": "code",
   "execution_count": 69,
   "id": "a2d019fc",
   "metadata": {},
   "outputs": [
    {
     "name": "stdout",
     "output_type": "stream",
     "text": [
      "User: Shahbaz\n",
      "Positional args: ('Hello!',)\n",
      "Keyword args: {'priority': 'high'}\n",
      "Sending 'Hello!' to Shahbaz with high priority\n"
     ]
    }
   ],
   "source": [
    "def logger(func):\n",
    "    def wrapper(user, *args, **kwargs):\n",
    "        print(f\"User: {user}\")\n",
    "        print(f\"Positional args: {args}\")\n",
    "        print(f\"Keyword args: {kwargs}\")\n",
    "        return func(user, *args, **kwargs)  # ← calling original function with all arguments\n",
    "    return wrapper\n",
    "\n",
    "@logger\n",
    "def send_message(user, message, priority=\"normal\"):\n",
    "    print(f\"Sending '{message}' to {user} with {priority} priority\")\n",
    "\n",
    "send_message(\"Shahbaz\", \"Hello!\", priority=\"high\")\n"
   ]
  },
  {
   "cell_type": "code",
   "execution_count": 70,
   "id": "da352727",
   "metadata": {},
   "outputs": [
    {
     "name": "stdout",
     "output_type": "stream",
     "text": [
      "Running backup...\n",
      "Email: Your job is complete!\n"
     ]
    }
   ],
   "source": [
    "def send_email(func):\n",
    "    def wrapper(*args, **kwargs):\n",
    "        result = func(*args, **kwargs)\n",
    "        print(\"Email: Your job is complete!\")  # Simulate sending email\n",
    "        return result\n",
    "    return wrapper\n",
    "\n",
    "@send_email\n",
    "def run_backup():\n",
    "    print(\"Running backup...\")\n",
    "\n",
    "run_backup()\n"
   ]
  },
  {
   "cell_type": "code",
   "execution_count": 72,
   "id": "63c1d3ce",
   "metadata": {},
   "outputs": [
    {
     "name": "stdout",
     "output_type": "stream",
     "text": [
      "sending money\n",
      "Sending 80000 to shahbaz\n",
      "money sent successfully\n"
     ]
    }
   ],
   "source": [
    "def send_money(func):\n",
    "    def wrapper(*args,**kwargs):\n",
    "        print('sending money')\n",
    "        results= func(*args,**kwargs)\n",
    "        print('money sent successfully')\n",
    "        return results\n",
    "    return wrapper\n",
    "@send_money\n",
    "def send_money_to_user(user,amount):\n",
    "    print(f\"Sending {amount} to {user}\")\n",
    "    \n",
    "    \n",
    "send_money_to_user(\"shahbaz\", 80000)"
   ]
  },
  {
   "cell_type": "code",
   "execution_count": null,
   "id": "2ec3b307",
   "metadata": {},
   "outputs": [],
   "source": [
    "def send_money(func):\n",
    "    def wrapper(*args, **kwargs):\n",
    "        print('sending money')                        # 1️⃣\n",
    "        result = func(*args, **kwargs)                # 2️⃣\n",
    "        print('money sent successfully')              # 3️⃣\n",
    "        return result                                 # 4️⃣\n",
    "    return wrapper                                    # 5️⃣\n",
    "\n",
    "@send_money                                           # 6️⃣\n",
    "def send_money_to_user(user, amount):\n",
    "    print(f\"Sending {amount} to {user}\")             # 7️⃣\n",
    "\n",
    "send_money_to_user(\"shahbaz\", 80000)                 # 8️⃣\n"
   ]
  },
  {
   "cell_type": "markdown",
   "id": "4c0c991c",
   "metadata": {},
   "source": [
    "🔹 Line 1: def send_money(func):\n",
    "This defines a decorator function called send_money that takes another function (func) as an argument.\n",
    "\n",
    "🔹 Line 2–4: def wrapper(*args, **kwargs): ...\n",
    "This wrapper() function is what will actually run instead of the original function.\n",
    "\n",
    "*args and **kwargs are used to accept any number of arguments passed to the wrapped function.\n",
    "\n",
    "🔹 Line 5: return wrapper\n",
    "The send_money function returns the wrapper, meaning when you decorate a function, you replace it with this wrapper logic.\n",
    "\n",
    "🔹 Line 6: @send_money\n",
    "This line decorates the function send_money_to_user.\n",
    "Behind the scenes, it’s the same as:\n",
    "\n",
    "python\n",
    "Copy code\n",
    "send_money_to_user = send_money(send_money_to_user)\n",
    "Now, calling send_money_to_user(...) will actually call wrapper(...).\n",
    "\n",
    "🔹 Line 7: def send_money_to_user(...)\n",
    "Defines the actual function logic to print the user and amount. But this will be wrapped and not called directly.\n",
    "\n",
    "🔹 Line 8: send_money_to_user(\"shahbaz\", 80000)\n",
    "You call the function, but since it’s decorated, this calls the wrapper(...) function instead.\n",
    "\n",
    "▶ Inside wrapper(...):\n",
    "1️⃣ print(\"sending money\")\n",
    "→ Logs that the process started.\n",
    "\n",
    "2️⃣ result = func(*args, **kwargs)\n",
    "→ Calls the original send_money_to_user(\"shahbaz\", 80000)\n",
    "→ This prints: Sending 80000 to shahbaz\n",
    "\n",
    "3️⃣ print(\"money sent successfully\")\n",
    "→ Logs that the process ended successfully.\n",
    "\n",
    "4️⃣ return result\n",
    "→ Returns the result of the original function (in this case, it's None because send_money_to_user doesn’t return anything).\n",
    "\n"
   ]
  },
  {
   "cell_type": "code",
   "execution_count": 73,
   "id": "41d64807",
   "metadata": {},
   "outputs": [
    {
     "name": "stdout",
     "output_type": "stream",
     "text": [
      "[4, 16, 36]\n"
     ]
    }
   ],
   "source": [
    "numbers = [1, 2, 3, 4, 5, 6]\n",
    "squared_evens = [x**2 for x in numbers if x % 2 == 0]\n",
    "print(squared_evens)  # [4, 16, 36]\n"
   ]
  },
  {
   "cell_type": "code",
   "execution_count": 74,
   "id": "12a29798",
   "metadata": {},
   "outputs": [
    {
     "name": "stdout",
     "output_type": "stream",
     "text": [
      "['Ali', 'Zara']\n"
     ]
    }
   ],
   "source": [
    "grades = {'Ali': 90, 'Sara': 45, 'Zara': 75}\n",
    "passed = [name for name, score in grades.items() if score >= 50]\n",
    "print(passed)  # ['Ali', 'Zara']\n"
   ]
  },
  {
   "cell_type": "code",
   "execution_count": 75,
   "id": "0f059f03",
   "metadata": {},
   "outputs": [
    {
     "name": "stdout",
     "output_type": "stream",
     "text": [
      "[0, 2, 4, 6, 8, 10, 12, 14]\n"
     ]
    }
   ],
   "source": [
    "list=[]\n",
    "for i in range(15):\n",
    "    if i %2==0:\n",
    "        list.append(i)\n",
    "print(list)  "
   ]
  },
  {
   "cell_type": "code",
   "execution_count": 76,
   "id": "a6e79a6a",
   "metadata": {},
   "outputs": [
    {
     "data": {
      "text/plain": [
       "[0, 2, 4, 6, 8, 10, 12, 14]"
      ]
     },
     "execution_count": 76,
     "metadata": {},
     "output_type": "execute_result"
    }
   ],
   "source": [
    "list1=[l for l in range(15) if l%2==0]\n",
    "list1"
   ]
  },
  {
   "cell_type": "code",
   "execution_count": 1,
   "id": "22ce7e80",
   "metadata": {},
   "outputs": [
    {
     "name": "stdout",
     "output_type": "stream",
     "text": [
      "Average Marks of Students:\n",
      "Ali: 84.33\n",
      "Sara: 91.67\n",
      "Ahmed: 75.0\n",
      "Ayesha: 60.0\n"
     ]
    }
   ],
   "source": [
    "# Step 1: Create a dictionary of students with their marks\n",
    "students = {\n",
    "    \"Ali\": [85, 90, 78],\n",
    "    \"Sara\": [92, 88, 95],\n",
    "    \"Ahmed\": [70, 75, 80],\n",
    "    \"Ayesha\": [60, 65, 55]\n",
    "}\n",
    "\n",
    "# Step 2: Define a function to calculate average marks\n",
    "def calculate_averages(student_dict):\n",
    "    averages = {}\n",
    "    for name, marks in student_dict.items():\n",
    "        average = sum(marks) / len(marks)\n",
    "        averages[name] = round(average, 2)  # rounded to 2 decimal places\n",
    "    return averages\n",
    "\n",
    "# Step 3: Call the function and print results\n",
    "avg_results = calculate_averages(students)\n",
    "print(\"Average Marks of Students:\")\n",
    "for name, avg in avg_results.items():\n",
    "    print(f\"{name}: {avg}\")\n"
   ]
  },
  {
   "cell_type": "code",
   "execution_count": 6,
   "id": "5e0d0cce",
   "metadata": {},
   "outputs": [],
   "source": [
    "# Step 1: Create a dictionary of students with their marks\n",
    "students = {\n",
    "    \"Ali\": [85, 90, 78],\n",
    "    \"Sara\": [92, 88, 95],\n",
    "    \"Ahmed\": [70, 75, 80],\n",
    "    \"Ayesha\": [60, 65, 55]\n",
    "}"
   ]
  },
  {
   "cell_type": "code",
   "execution_count": 9,
   "id": "7d67724d",
   "metadata": {},
   "outputs": [
    {
     "name": "stdout",
     "output_type": "stream",
     "text": [
      "Average Marks of Students:\n",
      "Ali: 84.33\n",
      "Sara: 91.67\n",
      "Ahmed: 75.0\n",
      "Ayesha: 60.0\n"
     ]
    }
   ],
   "source": [
    "students = {\n",
    "    \"Ali\": [85, 90, 78],\n",
    "    \"Sara\": [92, 88, 95],\n",
    "    \"Ahmed\": [70, 75, 80],\n",
    "    \"Ayesha\": [60, 65, 55]\n",
    "}\n",
    "\n",
    "def calculate_averages(student_dict):\n",
    "    return dict(\n",
    "        map(\n",
    "            lambda item: (item[0], round(sum(item[1]) / len(item[1]), 2)),\n",
    "            student_dict.items()\n",
    "        )\n",
    "    )\n",
    "\n",
    "averages = calculate_averages(students)\n",
    "\n",
    "print(\"Average Marks of Students:\")\n",
    "for name, avg in averages.items():\n",
    "    print(f\"{name}: {avg}\")\n"
   ]
  },
  {
   "cell_type": "code",
   "execution_count": 18,
   "id": "e9e0d4b7",
   "metadata": {},
   "outputs": [],
   "source": [
    "# Step 1: Create a dictionary of students with their marks\n",
    "students = {\n",
    "    \"Ali\": [85, 90, 78],\n",
    "    \"Sara\": [92, 88, 95],\n",
    "    \"Ahmed\": [70, 75, 80],\n",
    "    \"Ayesha\": [60, 65, 55]\n",
    "}\n",
    "\n",
    "# Step 2: Define the function correctly\n",
    "def cal_avgg(student_dict):\n",
    "    return dict(\n",
    "        map(\n",
    "            lambda item: (item[0], round(sum(item[1]) / len(item[1]), 2)),\n",
    "            student_dict.items()\n",
    "        )\n",
    "    )"
   ]
  },
  {
   "cell_type": "code",
   "execution_count": 19,
   "id": "03316dfc",
   "metadata": {},
   "outputs": [],
   "source": [
    "res=cal_avgg(students)"
   ]
  },
  {
   "cell_type": "code",
   "execution_count": 20,
   "id": "3b0af747",
   "metadata": {},
   "outputs": [
    {
     "name": "stdout",
     "output_type": "stream",
     "text": [
      "Ali: 84.33\n",
      "Sara: 91.67\n",
      "Ahmed: 75.0\n",
      "Ayesha: 60.0\n"
     ]
    }
   ],
   "source": [
    "for name,avg in res.items():\n",
    "    print(f\"{name}: {avg}\")"
   ]
  },
  {
   "cell_type": "code",
   "execution_count": 21,
   "id": "48cbef9b",
   "metadata": {},
   "outputs": [
    {
     "name": "stdout",
     "output_type": "stream",
     "text": [
      "10\n"
     ]
    }
   ],
   "source": [
    "def multiplier(factor):\n",
    "    return lambda x: x * factor\n",
    "\n",
    "double = multiplier(2)\n",
    "print(double(5))  # Output: 10\n"
   ]
  },
  {
   "cell_type": "code",
   "execution_count": 24,
   "id": "bc65c9f8",
   "metadata": {},
   "outputs": [
    {
     "data": {
      "text/plain": [
       "120"
      ]
     },
     "execution_count": 24,
     "metadata": {},
     "output_type": "execute_result"
    }
   ],
   "source": [
    "def factorial(n):\n",
    "    if n==0 or n==1:\n",
    "        return 1\n",
    "    \n",
    "    return n*factorial(n-1)\n",
    "\n",
    "factorial(5)"
   ]
  },
  {
   "cell_type": "markdown",
   "id": "f5cff24a",
   "metadata": {},
   "source": [
    "1. Closure Function (Function inside a function)"
   ]
  },
  {
   "cell_type": "code",
   "execution_count": 25,
   "id": "f617cb50",
   "metadata": {},
   "outputs": [
    {
     "name": "stdout",
     "output_type": "stream",
     "text": [
      "25\n",
      "8\n"
     ]
    }
   ],
   "source": [
    "def power_generator(n):\n",
    "    def power(x):\n",
    "        return x ** n\n",
    "    return power\n",
    "\n",
    "square = power_generator(2)\n",
    "cube = power_generator(3)\n",
    "\n",
    "print(square(5))  # ➝ 25\n",
    "print(cube(2))    # ➝ 8\n"
   ]
  },
  {
   "cell_type": "markdown",
   "id": "89a1f186",
   "metadata": {},
   "source": [
    "Recursive Function with Memoization (Efficient Fibonacci)"
   ]
  },
  {
   "cell_type": "code",
   "execution_count": 29,
   "id": "4df66513",
   "metadata": {},
   "outputs": [
    {
     "name": "stdout",
     "output_type": "stream",
     "text": [
      "55\n"
     ]
    }
   ],
   "source": [
    "def fib(n, memo={}):\n",
    "    if n in memo:\n",
    "        return memo[n]\n",
    "    if n <= 1:\n",
    "        return n\n",
    "    memo[n] = fib(n-1, memo) + fib(n-2, memo)\n",
    "    return memo[n]\n",
    "\n",
    "print(fib(10))  # ➝ 55\n"
   ]
  },
  {
   "cell_type": "markdown",
   "id": "b2e7f315",
   "metadata": {},
   "source": [
    "Function that accepts another function as argument (Higher-Order Function)\n",
    "python\n",
    "Copy code\n"
   ]
  },
  {
   "cell_type": "code",
   "execution_count": 28,
   "id": "7d16e649",
   "metadata": {},
   "outputs": [
    {
     "name": "stdout",
     "output_type": "stream",
     "text": [
      "[1, 4, 9, 16]\n"
     ]
    }
   ],
   "source": [
    "def apply_func(f, values):\n",
    "    return [f(x) for x in values]\n",
    "\n",
    "def square(x):\n",
    "    return x * x\n",
    "\n",
    "print(apply_func(square, [1, 2, 3, 4]))  # ➝ [1, 4, 9, 16]\n"
   ]
  },
  {
   "cell_type": "code",
   "execution_count": 1,
   "id": "91ce07ba",
   "metadata": {},
   "outputs": [
    {
     "name": "stdout",
     "output_type": "stream",
     "text": [
      "Deer is running\n"
     ]
    },
    {
     "data": {
      "text/plain": [
       "15"
      ]
     },
     "execution_count": 1,
     "metadata": {},
     "output_type": "execute_result"
    }
   ],
   "source": [
    "def deer(func):\n",
    "    def wrapper(*args,**kwargs):\n",
    "        print(\"Deer is running\")\n",
    "        return func(*args, **kwargs)\n",
    "    return wrapper\n",
    "@deer\n",
    "def add(a,b):\n",
    "    return a+b\n",
    "\n",
    "\n",
    "add(5,10)\n",
    "\n"
   ]
  },
  {
   "cell_type": "code",
   "execution_count": 3,
   "id": "3da3eb83",
   "metadata": {},
   "outputs": [
    {
     "name": "stdout",
     "output_type": "stream",
     "text": [
      "Access denied\n",
      "Welcome to the admin dashboard\n"
     ]
    }
   ],
   "source": [
    "def require_admin(func):\n",
    "    def wrapper(user):\n",
    "        if user.get(\"role\") != \"admin\":\n",
    "            return \"Access denied\"\n",
    "        return func(user)\n",
    "    return wrapper\n",
    "\n",
    "@require_admin\n",
    "def view_dashboard(user):\n",
    "    return \"Welcome to the admin dashboard\"\n",
    "\n",
    "user1 = {\"name\": \"Ali\", \"role\": \"user\"}\n",
    "user2 = {\"name\": \"Admin\", \"role\": \"admin\"}\n",
    "\n",
    "print(view_dashboard(user1))  # Access denied\n",
    "print(view_dashboard(user2))  # Welcome\n"
   ]
  },
  {
   "cell_type": "code",
   "execution_count": 4,
   "id": "5be055ea",
   "metadata": {},
   "outputs": [
    {
     "name": "stdout",
     "output_type": "stream",
     "text": [
      "55\n"
     ]
    }
   ],
   "source": [
    "def memoize(func):\n",
    "    cache={}\n",
    "    def wrraper(n):\n",
    "        if n in cache:\n",
    "            return cache[n]\n",
    "        cache[n]=func(n)\n",
    "        return cache[n]\n",
    "    return wrraper\n",
    "\n",
    "@memoize\n",
    "def fib(n):\n",
    "    if n <= 1:\n",
    "        return n\n",
    "    return fib(n-1) + fib(n-2)\n",
    "print(fib(10)) "
   ]
  },
  {
   "cell_type": "code",
   "execution_count": 5,
   "id": "10fb4713",
   "metadata": {},
   "outputs": [
    {
     "name": "stdout",
     "output_type": "stream",
     "text": [
      "Hello!\n",
      "Hello!\n",
      "Hello!\n"
     ]
    }
   ],
   "source": [
    "def repeat(time):\n",
    "    def decorator(func):\n",
    "        def wrrapper(*args, **kwargs):\n",
    "            for _ in range(time):\n",
    "                res=func(*args, **kwargs)\n",
    "            return res\n",
    "        return wrrapper\n",
    "    return decorator\n",
    "\n",
    "@repeat(3)\n",
    "def say_hello():\n",
    "    print(\"Hello!\")\n",
    "\n",
    "say_hello()"
   ]
  },
  {
   "cell_type": "code",
   "execution_count": 6,
   "id": "cfaaf497",
   "metadata": {},
   "outputs": [
    {
     "name": "stdout",
     "output_type": "stream",
     "text": [
      "slow_function took 1.0013 seconds\n",
      "Done\n"
     ]
    }
   ],
   "source": [
    "import time\n",
    "\n",
    "def timer(func):\n",
    "    def wrapper(*args, **kwargs):\n",
    "        start = time.time()\n",
    "        result = func(*args, **kwargs)\n",
    "        end = time.time()\n",
    "        print(f\"{func.__name__} took {end - start:.4f} seconds\")\n",
    "        return result\n",
    "    return wrapper\n",
    "\n",
    "@timer\n",
    "def slow_function():\n",
    "    time.sleep(1)\n",
    "    return \"Done\"\n",
    "\n",
    "print(slow_function())\n"
   ]
  },
  {
   "cell_type": "code",
   "execution_count": 8,
   "id": "eed15d9e",
   "metadata": {},
   "outputs": [
    {
     "name": "stdout",
     "output_type": "stream",
     "text": [
      "index 0 and its item is Python\n",
      "index 1 and its item is Decorator\n",
      "index 2 and its item is Function\n",
      "index 3 and its item is Argument\n",
      "index 4 and its item is Wrapper\n",
      "index 5 and its item is Return\n",
      "index 6 and its item is Logging\n",
      "index 7 and its item is Timer\n",
      "index 8 and its item is Cache\n",
      "index 9 and its item is Access\n",
      "index 10 and its item is Loop\n",
      "index 11 and its item is Keyword\n",
      "index 12 and its item is Dictionary\n",
      "index 13 and its item is Parameter\n",
      "index 14 and its item is Result\n"
     ]
    }
   ],
   "source": [
    "list = [\n",
    "    \"Python\",      # 0\n",
    "    \"Decorator\",   # 1\n",
    "    \"Function\",    # 2\n",
    "    \"Argument\",    # 3\n",
    "    \"Wrapper\",     # 4\n",
    "    \"Return\",      # 5\n",
    "    \"Logging\",     # 6\n",
    "    \"Timer\",       # 7\n",
    "    \"Cache\",       # 8\n",
    "    \"Access\",      # 9\n",
    "    \"Loop\",        #10\n",
    "    \"Keyword\",     #11\n",
    "    \"Dictionary\",  #12\n",
    "    \"Parameter\",   #13\n",
    "    \"Result\"       #14\n",
    "]\n",
    "\n",
    "for index,item in enumerate(list):\n",
    "    print(f\"index {index} and its item is {item}\")\n",
    "    "
   ]
  },
  {
   "cell_type": "code",
   "execution_count": null,
   "id": "cab3055b",
   "metadata": {},
   "outputs": [],
   "source": [
    "list = [\n",
    "    \"Python\",      # 0\n",
    "    \"Decorator\",   # 1\n",
    "    \"Function\",    # 2\n",
    "    \"Argument\",    # 3\n",
    "    \"Wrapper\",     # 4\n",
    "    \"Return\",      # 5\n",
    "    \"Logging\",     # 6\n",
    "    \"Timer\",       # 7\n",
    "    \"Cache\",       # 8\n",
    "    \"Access\",      # 9\n",
    "    \"Loop\",        #10\n",
    "    \"Keyword\",     #11\n",
    "    \"Dictionary\",  #12\n",
    "    \"Parameter\",   #13\n",
    "    \"Result\"       #14\n",
    "]\n",
    "\n",
    "def filter_words(list):\n",
    "    return [list[i] for i in range(len(list))]\n",
    "\n",
    "res=filter_words(list)\n",
    "\n",
    "print(res)\n",
    "\n",
    "\n"
   ]
  },
  {
   "cell_type": "markdown",
   "id": "81eabbf0",
   "metadata": {},
   "source": [
    "generator in python"
   ]
  },
  {
   "cell_type": "code",
   "execution_count": 2,
   "id": "d7465e34",
   "metadata": {},
   "outputs": [
    {
     "name": "stdout",
     "output_type": "stream",
     "text": [
      "<generator object gen at 0x000001B865B4EF80>\n"
     ]
    }
   ],
   "source": [
    "def gen():\n",
    "    for i in range(10):\n",
    "        yield i*i\n",
    "\n",
    "next=gen()\n",
    "print(next)"
   ]
  },
  {
   "cell_type": "code",
   "execution_count": 5,
   "id": "ade45bf4",
   "metadata": {},
   "outputs": [
    {
     "name": "stdout",
     "output_type": "stream",
     "text": [
      "1\n",
      "2\n",
      "3\n"
     ]
    }
   ],
   "source": [
    "def count_up_to(max):\n",
    "    count=1\n",
    "    while count<=max:\n",
    "        yield count\n",
    "        count +=1\n",
    "        \n",
    "        \n",
    "for number in count_up_to(3):\n",
    "    print(number)"
   ]
  },
  {
   "cell_type": "markdown",
   "id": "03ef868c",
   "metadata": {},
   "source": [
    "Real-World Generator: Reading a Large File"
   ]
  },
  {
   "cell_type": "code",
   "execution_count": 10,
   "id": "a62c57f5",
   "metadata": {},
   "outputs": [
    {
     "name": "stdout",
     "output_type": "stream",
     "text": [
      "Explanation:\n",
      "def count_up_to(max) defines a generator function.\n",
      "\n",
      "yield pauses the function and sends a value back.\n",
      "\n",
      "The state of the function is saved until the next call.\n",
      "\n",
      "On each for loop iteration, the function resumes after yield.\n"
     ]
    },
    {
     "name": "stderr",
     "output_type": "stream",
     "text": [
      "<>:8: SyntaxWarning: invalid escape sequence '\\o'\n",
      "<>:8: SyntaxWarning: invalid escape sequence '\\o'\n",
      "C:\\Users\\shahb\\AppData\\Local\\Temp\\ipykernel_19692\\1155828043.py:8: SyntaxWarning: invalid escape sequence '\\o'\n",
      "  for line in read_large_file(\"E:\\opp_practice\\python_oops\\large_log.txt\"):\n"
     ]
    }
   ],
   "source": [
    "def read_large_file(file_path):\n",
    "    with open(file_path,'r') as f:\n",
    "        for line in f:\n",
    "            yield line.strip()\n",
    "            \n",
    "            \n",
    "# Usage\n",
    "for line in read_large_file(\"E:\\opp_practice\\python_oops\\large_log.txt\"):\n",
    "    print(line)"
   ]
  },
  {
   "cell_type": "code",
   "execution_count": null,
   "id": "26bbb19f",
   "metadata": {},
   "outputs": [],
   "source": [
    "def fetch_paginated_data(api_func):\n",
    "    page = 1\n",
    "    while True:\n",
    "        data = api_func(page)\n",
    "        if not data:\n",
    "            break\n",
    "        yield from data  # yields each item from the current page\n",
    "        page += 1\n"
   ]
  },
  {
   "cell_type": "code",
   "execution_count": 11,
   "id": "28f2a370",
   "metadata": {},
   "outputs": [
    {
     "name": "stdout",
     "output_type": "stream",
     "text": [
      "[0, 2, 4, 6, 8, 10, 12, 14, 16, 18, 20, 22, 24, 26, 28, 30, 32, 34, 36, 38, 40, 42, 44, 46, 48]\n"
     ]
    }
   ],
   "source": [
    "even=[]\n",
    "for number in range(50):\n",
    "    is_even=number % 2==0\n",
    "    if is_even:\n",
    "        even.append(number)\n",
    "        \n",
    "print(even)"
   ]
  },
  {
   "cell_type": "code",
   "execution_count": 13,
   "id": "a338d3de",
   "metadata": {},
   "outputs": [],
   "source": [
    "even=[x for x in range(50) if x %2==0]"
   ]
  },
  {
   "cell_type": "code",
   "execution_count": 15,
   "id": "f6dc081a",
   "metadata": {},
   "outputs": [
    {
     "name": "stdout",
     "output_type": "stream",
     "text": [
      "[0, 1, 4, 9, 16, 25, 36, 49, 64, 81]\n"
     ]
    }
   ],
   "source": [
    "square = lambda x: x**2\n",
    "squares = [square(x) for x in range(10)]\n",
    "print(squares)\n"
   ]
  },
  {
   "cell_type": "code",
   "execution_count": 16,
   "id": "11195283",
   "metadata": {},
   "outputs": [
    {
     "name": "stdout",
     "output_type": "stream",
     "text": [
      "[0, 1, 4, 9, 16]\n"
     ]
    }
   ],
   "source": [
    "x=[x**2 for x in range(5)]\n",
    "\n",
    "print(x)"
   ]
  },
  {
   "cell_type": "code",
   "execution_count": 19,
   "id": "673febf4",
   "metadata": {},
   "outputs": [
    {
     "name": "stdout",
     "output_type": "stream",
     "text": [
      " how are you\n",
      "['Apple']\n"
     ]
    }
   ],
   "source": [
    "fruits = [\n",
    "    \"Apple\",\n",
    "    \"Banana\",\n",
    "    \"Orange\",\n",
    "    \"Mango\",\n",
    "    \"Grapes\",\n",
    "    \"Pineapple\",\n",
    "    \"Strawberry\",\n",
    "    \"Watermelon\",\n",
    "    \"Cherry\",\n",
    "    \"Papaya\"\n",
    "]\n",
    "valid_faruit=[]\n",
    "for fruit in fruits:\n",
    "    if len(fruit)> 5:\n",
    "        continue\n",
    "    if fruit[0]!='A':\n",
    "        continue\n",
    "    if fruit[-1] !='P':\n",
    "        print( ' how are you')\n",
    "        \n",
    "    valid_faruit.append(fruit)\n",
    "    \n",
    "print(valid_faruit)\n"
   ]
  },
  {
   "cell_type": "code",
   "execution_count": 22,
   "id": "fd21a77f",
   "metadata": {},
   "outputs": [
    {
     "name": "stdout",
     "output_type": "stream",
     "text": [
      "[]\n"
     ]
    }
   ],
   "source": [
    "val_fruit = [fruit for fruit in fruits if len(fruit) <= 1 and fruit[0] != 'A' and fruit[-1] == 'P']\n",
    "print(val_fruit)\n"
   ]
  },
  {
   "cell_type": "code",
   "execution_count": 23,
   "id": "7f7e45dc",
   "metadata": {},
   "outputs": [
    {
     "name": "stdout",
     "output_type": "stream",
     "text": [
      "1\n",
      "2\n",
      "3\n",
      "4\n",
      "5\n",
      "6\n",
      "7\n",
      "8\n",
      "9\n"
     ]
    }
   ],
   "source": [
    "matrix = [\n",
    "    [1, 2, 3],\n",
    "    [4, 5, 6],\n",
    "    [7, 8, 9]\n",
    "]\n",
    "\n",
    "for row in matrix:\n",
    "    for r in row:\n",
    "        print(r)\n"
   ]
  },
  {
   "cell_type": "markdown",
   "id": "82418110",
   "metadata": {},
   "source": []
  },
  {
   "cell_type": "code",
   "execution_count": 27,
   "id": "00f65df3",
   "metadata": {},
   "outputs": [
    {
     "name": "stdout",
     "output_type": "stream",
     "text": [
      "[1, 2, 3, 4, 5, 6, 7, 8, 9]\n"
     ]
    }
   ],
   "source": [
    "x=[num for row in matrix for num in row]\n",
    "print(x)\n"
   ]
  },
  {
   "cell_type": "code",
   "execution_count": 28,
   "id": "be4af396",
   "metadata": {},
   "outputs": [
    {
     "name": "stdout",
     "output_type": "stream",
     "text": [
      "[[[1, 2, 3], [4, 5, 6]], [[7, 8, 9], [10, 11, 12]]]\n"
     ]
    }
   ],
   "source": [
    "triple_list = [\n",
    "    [  # First 2D layer\n",
    "        [1, 2, 3],\n",
    "        [4, 5, 6]\n",
    "    ],\n",
    "    [  # Second 2D layer\n",
    "        [7, 8, 9],\n",
    "        [10, 11, 12]\n",
    "    ]\n",
    "]\n",
    "\n",
    "print(triple_list)\n"
   ]
  },
  {
   "cell_type": "markdown",
   "id": "bc05744d",
   "metadata": {},
   "source": [
    "triple= [ num for third in triple_list for second in third for num in second]\n",
    "print(triple)"
   ]
  },
  {
   "cell_type": "code",
   "execution_count": 31,
   "id": "c60b1976",
   "metadata": {},
   "outputs": [
    {
     "name": "stdout",
     "output_type": "stream",
     "text": [
      "✅ ye is main majood h\n"
     ]
    }
   ],
   "source": [
    "triple_list = [\n",
    "    [\n",
    "        [1, 2, 3],\n",
    "        [4, 5, 6]\n",
    "    ],\n",
    "    [\n",
    "        [7, 8, 9],\n",
    "        [10, 11, 12]\n",
    "    ]\n",
    "]\n",
    "\n",
    "# Use list comprehension to flatten and filter for 4\n",
    "found = [num for third in triple_list for second in third for num in second if num == 4]\n",
    "\n",
    "if found:\n",
    "    print(\"✅ ye is main majood h\")\n",
    "else:\n",
    "    print(\"❌ ye is main nahi h\")\n"
   ]
  },
  {
   "cell_type": "code",
   "execution_count": null,
   "id": "d70c9912",
   "metadata": {},
   "outputs": [
    {
     "data": {
      "text/plain": [
       "['even {x}',\n",
       " 'odd',\n",
       " 'even {x}',\n",
       " 'odd',\n",
       " 'even {x}',\n",
       " 'odd',\n",
       " 'even {x}',\n",
       " 'odd',\n",
       " 'even {x}',\n",
       " 'odd',\n",
       " 'even {x}',\n",
       " 'odd',\n",
       " 'even {x}',\n",
       " 'odd',\n",
       " 'even {x}',\n",
       " 'odd',\n",
       " 'even {x}',\n",
       " 'odd',\n",
       " 'even {x}',\n",
       " 'odd']"
      ]
     },
     "execution_count": 33,
     "metadata": {},
     "output_type": "execute_result"
    }
   ],
   "source": [
    "category=[ 'even ' if x %2==0 else 'odd' for x in range(20)\n",
    "          ]\n",
    "category"
   ]
  },
  {
   "cell_type": "code",
   "execution_count": 34,
   "id": "1d654a78",
   "metadata": {},
   "outputs": [
    {
     "name": "stdout",
     "output_type": "stream",
     "text": [
      "{'a': 1, 'b': 2, 'c': 3, 'd': 4, 'e': 5}\n"
     ]
    }
   ],
   "source": [
    "pair=[('a',1),('b',2),('c',3),('d',4),('e',5)]\n",
    "my_dict={k:v for k,v in pair}\n",
    "print(my_dict)"
   ]
  },
  {
   "cell_type": "code",
   "execution_count": 35,
   "id": "362116e3",
   "metadata": {},
   "outputs": [
    {
     "data": {
      "text/plain": [
       "[('a', 1), ('b', 2), ('c', 3), ('d', 4), ('e', 5)]"
      ]
     },
     "execution_count": 35,
     "metadata": {},
     "output_type": "execute_result"
    }
   ],
   "source": [
    "dict=[(k,v) for k,v in pair]\n",
    "dict"
   ]
  },
  {
   "cell_type": "code",
   "execution_count": null,
   "id": "cf40bf17",
   "metadata": {},
   "outputs": [],
   "source": []
  }
 ],
 "metadata": {
  "kernelspec": {
   "display_name": ".venv",
   "language": "python",
   "name": "python3"
  },
  "language_info": {
   "codemirror_mode": {
    "name": "ipython",
    "version": 3
   },
   "file_extension": ".py",
   "mimetype": "text/x-python",
   "name": "python",
   "nbconvert_exporter": "python",
   "pygments_lexer": "ipython3",
   "version": "3.12.4"
  }
 },
 "nbformat": 4,
 "nbformat_minor": 5
}
